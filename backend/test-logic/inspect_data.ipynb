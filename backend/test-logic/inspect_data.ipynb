{
 "cells": [
  {
   "metadata": {},
   "cell_type": "markdown",
   "source": "# Inspecting users with different spending patterns",
   "id": "8754d8df7ea26443"
  },
  {
   "metadata": {
    "jupyter": {
     "is_executing": true
    }
   },
   "cell_type": "code",
   "source": [
    "%load_ext autoreload\n",
    "%autoreload 2"
   ],
   "id": "64bba6346135c1ca",
   "outputs": [],
   "execution_count": null
  },
  {
   "cell_type": "code",
   "id": "initial_id",
   "metadata": {
    "collapsed": true,
    "ExecuteTime": {
     "end_time": "2024-11-10T15:23:09.171923Z",
     "start_time": "2024-11-10T15:23:08.754811Z"
    }
   },
   "source": [
    "import pandas as pd\n",
    "import numpy as np\n",
    "from mcc_map import convert_mcc_to_category"
   ],
   "outputs": [],
   "execution_count": 1
  },
  {
   "metadata": {
    "ExecuteTime": {
     "end_time": "2024-11-10T15:23:47.017400Z",
     "start_time": "2024-11-10T15:23:10.589647Z"
    }
   },
   "cell_type": "code",
   "source": [
    "tx_df = pd.read_csv(\"dummy-data/credit_card_transactions-ibm_v2.csv\")\n",
    "tx_df[\"Amount\"] = tx_df[\"Amount\"].replace(\"[\\$,]\", \"\", regex=True).astype(float)\n",
    "tx_grouped = tx_df.groupby(\"MCC\")[\"Amount\"].sum().sort_values(ascending=False)\n",
    "tx_df.head()"
   ],
   "id": "aa8269cdbe497a67",
   "outputs": [
    {
     "data": {
      "text/plain": [
       "   User  Card  Year  Month  Day   Time  Amount           Use Chip  \\\n",
       "0     0     0  2002      9    1  06:21  134.09  Swipe Transaction   \n",
       "1     0     0  2002      9    1  06:42   38.48  Swipe Transaction   \n",
       "2     0     0  2002      9    2  06:22  120.34  Swipe Transaction   \n",
       "3     0     0  2002      9    2  17:45  128.95  Swipe Transaction   \n",
       "4     0     0  2002      9    3  06:23  104.71  Swipe Transaction   \n",
       "\n",
       "         Merchant Name  Merchant City Merchant State      Zip   MCC Errors?  \\\n",
       "0  3527213246127876953       La Verne             CA  91750.0  5300     NaN   \n",
       "1  -727612092139916043  Monterey Park             CA  91754.0  5411     NaN   \n",
       "2  -727612092139916043  Monterey Park             CA  91754.0  5411     NaN   \n",
       "3  3414527459579106770  Monterey Park             CA  91754.0  5651     NaN   \n",
       "4  5817218446178736267       La Verne             CA  91750.0  5912     NaN   \n",
       "\n",
       "  Is Fraud?  \n",
       "0        No  \n",
       "1        No  \n",
       "2        No  \n",
       "3        No  \n",
       "4        No  "
      ],
      "text/html": [
       "<div>\n",
       "<style scoped>\n",
       "    .dataframe tbody tr th:only-of-type {\n",
       "        vertical-align: middle;\n",
       "    }\n",
       "\n",
       "    .dataframe tbody tr th {\n",
       "        vertical-align: top;\n",
       "    }\n",
       "\n",
       "    .dataframe thead th {\n",
       "        text-align: right;\n",
       "    }\n",
       "</style>\n",
       "<table border=\"1\" class=\"dataframe\">\n",
       "  <thead>\n",
       "    <tr style=\"text-align: right;\">\n",
       "      <th></th>\n",
       "      <th>User</th>\n",
       "      <th>Card</th>\n",
       "      <th>Year</th>\n",
       "      <th>Month</th>\n",
       "      <th>Day</th>\n",
       "      <th>Time</th>\n",
       "      <th>Amount</th>\n",
       "      <th>Use Chip</th>\n",
       "      <th>Merchant Name</th>\n",
       "      <th>Merchant City</th>\n",
       "      <th>Merchant State</th>\n",
       "      <th>Zip</th>\n",
       "      <th>MCC</th>\n",
       "      <th>Errors?</th>\n",
       "      <th>Is Fraud?</th>\n",
       "    </tr>\n",
       "  </thead>\n",
       "  <tbody>\n",
       "    <tr>\n",
       "      <th>0</th>\n",
       "      <td>0</td>\n",
       "      <td>0</td>\n",
       "      <td>2002</td>\n",
       "      <td>9</td>\n",
       "      <td>1</td>\n",
       "      <td>06:21</td>\n",
       "      <td>134.09</td>\n",
       "      <td>Swipe Transaction</td>\n",
       "      <td>3527213246127876953</td>\n",
       "      <td>La Verne</td>\n",
       "      <td>CA</td>\n",
       "      <td>91750.0</td>\n",
       "      <td>5300</td>\n",
       "      <td>NaN</td>\n",
       "      <td>No</td>\n",
       "    </tr>\n",
       "    <tr>\n",
       "      <th>1</th>\n",
       "      <td>0</td>\n",
       "      <td>0</td>\n",
       "      <td>2002</td>\n",
       "      <td>9</td>\n",
       "      <td>1</td>\n",
       "      <td>06:42</td>\n",
       "      <td>38.48</td>\n",
       "      <td>Swipe Transaction</td>\n",
       "      <td>-727612092139916043</td>\n",
       "      <td>Monterey Park</td>\n",
       "      <td>CA</td>\n",
       "      <td>91754.0</td>\n",
       "      <td>5411</td>\n",
       "      <td>NaN</td>\n",
       "      <td>No</td>\n",
       "    </tr>\n",
       "    <tr>\n",
       "      <th>2</th>\n",
       "      <td>0</td>\n",
       "      <td>0</td>\n",
       "      <td>2002</td>\n",
       "      <td>9</td>\n",
       "      <td>2</td>\n",
       "      <td>06:22</td>\n",
       "      <td>120.34</td>\n",
       "      <td>Swipe Transaction</td>\n",
       "      <td>-727612092139916043</td>\n",
       "      <td>Monterey Park</td>\n",
       "      <td>CA</td>\n",
       "      <td>91754.0</td>\n",
       "      <td>5411</td>\n",
       "      <td>NaN</td>\n",
       "      <td>No</td>\n",
       "    </tr>\n",
       "    <tr>\n",
       "      <th>3</th>\n",
       "      <td>0</td>\n",
       "      <td>0</td>\n",
       "      <td>2002</td>\n",
       "      <td>9</td>\n",
       "      <td>2</td>\n",
       "      <td>17:45</td>\n",
       "      <td>128.95</td>\n",
       "      <td>Swipe Transaction</td>\n",
       "      <td>3414527459579106770</td>\n",
       "      <td>Monterey Park</td>\n",
       "      <td>CA</td>\n",
       "      <td>91754.0</td>\n",
       "      <td>5651</td>\n",
       "      <td>NaN</td>\n",
       "      <td>No</td>\n",
       "    </tr>\n",
       "    <tr>\n",
       "      <th>4</th>\n",
       "      <td>0</td>\n",
       "      <td>0</td>\n",
       "      <td>2002</td>\n",
       "      <td>9</td>\n",
       "      <td>3</td>\n",
       "      <td>06:23</td>\n",
       "      <td>104.71</td>\n",
       "      <td>Swipe Transaction</td>\n",
       "      <td>5817218446178736267</td>\n",
       "      <td>La Verne</td>\n",
       "      <td>CA</td>\n",
       "      <td>91750.0</td>\n",
       "      <td>5912</td>\n",
       "      <td>NaN</td>\n",
       "      <td>No</td>\n",
       "    </tr>\n",
       "  </tbody>\n",
       "</table>\n",
       "</div>"
      ]
     },
     "execution_count": 2,
     "metadata": {},
     "output_type": "execute_result"
    }
   ],
   "execution_count": 2
  },
  {
   "metadata": {
    "ExecuteTime": {
     "end_time": "2024-11-10T15:23:48.437151Z",
     "start_time": "2024-11-10T15:23:47.056605Z"
    }
   },
   "cell_type": "code",
   "source": "convert_mcc_to_category(tx_df)",
   "id": "d99df13b31394bf",
   "outputs": [],
   "execution_count": 3
  },
  {
   "metadata": {
    "ExecuteTime": {
     "end_time": "2024-11-10T15:23:52.002473Z",
     "start_time": "2024-11-10T15:23:48.462430Z"
    }
   },
   "cell_type": "code",
   "source": "tx_df.describe()",
   "id": "4e3c9508dff3a104",
   "outputs": [
    {
     "data": {
      "text/plain": [
       "               User          Card          Year         Month           Day  \\\n",
       "count  2.438690e+07  2.438690e+07  2.438690e+07  2.438690e+07  2.438690e+07   \n",
       "mean   1.001019e+03  1.351366e+00  2.011955e+03  6.525064e+00  1.571812e+01   \n",
       "std    5.694612e+02  1.407154e+00  5.105921e+00  3.472355e+00  8.794073e+00   \n",
       "min    0.000000e+00  0.000000e+00  1.991000e+03  1.000000e+00  1.000000e+00   \n",
       "25%    5.100000e+02  0.000000e+00  2.008000e+03  3.000000e+00  8.000000e+00   \n",
       "50%    1.006000e+03  1.000000e+00  2.013000e+03  7.000000e+00  1.600000e+01   \n",
       "75%    1.477000e+03  2.000000e+00  2.016000e+03  1.000000e+01  2.300000e+01   \n",
       "max    1.999000e+03  8.000000e+00  2.020000e+03  1.200000e+01  3.100000e+01   \n",
       "\n",
       "             Amount  Merchant Name           Zip  \n",
       "count  2.438690e+07   2.438690e+07  2.150876e+07  \n",
       "mean   4.363401e+01  -4.769230e+17  5.095644e+04  \n",
       "std    8.202239e+01   4.758940e+18  2.939707e+04  \n",
       "min   -5.000000e+02  -9.222899e+18  5.010000e+02  \n",
       "25%    9.200000e+00  -4.500543e+18  2.837400e+04  \n",
       "50%    3.014000e+01  -7.946765e+17  4.674200e+04  \n",
       "75%    6.506000e+01   3.189517e+18  7.756400e+04  \n",
       "max    1.239050e+04   9.223292e+18  9.992800e+04  "
      ],
      "text/html": [
       "<div>\n",
       "<style scoped>\n",
       "    .dataframe tbody tr th:only-of-type {\n",
       "        vertical-align: middle;\n",
       "    }\n",
       "\n",
       "    .dataframe tbody tr th {\n",
       "        vertical-align: top;\n",
       "    }\n",
       "\n",
       "    .dataframe thead th {\n",
       "        text-align: right;\n",
       "    }\n",
       "</style>\n",
       "<table border=\"1\" class=\"dataframe\">\n",
       "  <thead>\n",
       "    <tr style=\"text-align: right;\">\n",
       "      <th></th>\n",
       "      <th>User</th>\n",
       "      <th>Card</th>\n",
       "      <th>Year</th>\n",
       "      <th>Month</th>\n",
       "      <th>Day</th>\n",
       "      <th>Amount</th>\n",
       "      <th>Merchant Name</th>\n",
       "      <th>Zip</th>\n",
       "    </tr>\n",
       "  </thead>\n",
       "  <tbody>\n",
       "    <tr>\n",
       "      <th>count</th>\n",
       "      <td>2.438690e+07</td>\n",
       "      <td>2.438690e+07</td>\n",
       "      <td>2.438690e+07</td>\n",
       "      <td>2.438690e+07</td>\n",
       "      <td>2.438690e+07</td>\n",
       "      <td>2.438690e+07</td>\n",
       "      <td>2.438690e+07</td>\n",
       "      <td>2.150876e+07</td>\n",
       "    </tr>\n",
       "    <tr>\n",
       "      <th>mean</th>\n",
       "      <td>1.001019e+03</td>\n",
       "      <td>1.351366e+00</td>\n",
       "      <td>2.011955e+03</td>\n",
       "      <td>6.525064e+00</td>\n",
       "      <td>1.571812e+01</td>\n",
       "      <td>4.363401e+01</td>\n",
       "      <td>-4.769230e+17</td>\n",
       "      <td>5.095644e+04</td>\n",
       "    </tr>\n",
       "    <tr>\n",
       "      <th>std</th>\n",
       "      <td>5.694612e+02</td>\n",
       "      <td>1.407154e+00</td>\n",
       "      <td>5.105921e+00</td>\n",
       "      <td>3.472355e+00</td>\n",
       "      <td>8.794073e+00</td>\n",
       "      <td>8.202239e+01</td>\n",
       "      <td>4.758940e+18</td>\n",
       "      <td>2.939707e+04</td>\n",
       "    </tr>\n",
       "    <tr>\n",
       "      <th>min</th>\n",
       "      <td>0.000000e+00</td>\n",
       "      <td>0.000000e+00</td>\n",
       "      <td>1.991000e+03</td>\n",
       "      <td>1.000000e+00</td>\n",
       "      <td>1.000000e+00</td>\n",
       "      <td>-5.000000e+02</td>\n",
       "      <td>-9.222899e+18</td>\n",
       "      <td>5.010000e+02</td>\n",
       "    </tr>\n",
       "    <tr>\n",
       "      <th>25%</th>\n",
       "      <td>5.100000e+02</td>\n",
       "      <td>0.000000e+00</td>\n",
       "      <td>2.008000e+03</td>\n",
       "      <td>3.000000e+00</td>\n",
       "      <td>8.000000e+00</td>\n",
       "      <td>9.200000e+00</td>\n",
       "      <td>-4.500543e+18</td>\n",
       "      <td>2.837400e+04</td>\n",
       "    </tr>\n",
       "    <tr>\n",
       "      <th>50%</th>\n",
       "      <td>1.006000e+03</td>\n",
       "      <td>1.000000e+00</td>\n",
       "      <td>2.013000e+03</td>\n",
       "      <td>7.000000e+00</td>\n",
       "      <td>1.600000e+01</td>\n",
       "      <td>3.014000e+01</td>\n",
       "      <td>-7.946765e+17</td>\n",
       "      <td>4.674200e+04</td>\n",
       "    </tr>\n",
       "    <tr>\n",
       "      <th>75%</th>\n",
       "      <td>1.477000e+03</td>\n",
       "      <td>2.000000e+00</td>\n",
       "      <td>2.016000e+03</td>\n",
       "      <td>1.000000e+01</td>\n",
       "      <td>2.300000e+01</td>\n",
       "      <td>6.506000e+01</td>\n",
       "      <td>3.189517e+18</td>\n",
       "      <td>7.756400e+04</td>\n",
       "    </tr>\n",
       "    <tr>\n",
       "      <th>max</th>\n",
       "      <td>1.999000e+03</td>\n",
       "      <td>8.000000e+00</td>\n",
       "      <td>2.020000e+03</td>\n",
       "      <td>1.200000e+01</td>\n",
       "      <td>3.100000e+01</td>\n",
       "      <td>1.239050e+04</td>\n",
       "      <td>9.223292e+18</td>\n",
       "      <td>9.992800e+04</td>\n",
       "    </tr>\n",
       "  </tbody>\n",
       "</table>\n",
       "</div>"
      ]
     },
     "execution_count": 4,
     "metadata": {},
     "output_type": "execute_result"
    }
   ],
   "execution_count": 4
  },
  {
   "metadata": {
    "ExecuteTime": {
     "end_time": "2024-11-10T15:23:52.039199Z",
     "start_time": "2024-11-10T15:23:52.030244Z"
    }
   },
   "cell_type": "code",
   "source": "tx_df[\"User\"].max()",
   "id": "e4eec8066e28d25f",
   "outputs": [
    {
     "data": {
      "text/plain": [
       "1999"
      ]
     },
     "execution_count": 5,
     "metadata": {},
     "output_type": "execute_result"
    }
   ],
   "execution_count": 5
  },
  {
   "metadata": {},
   "cell_type": "markdown",
   "source": "### Let's look at a user with retail-heavy spending habits",
   "id": "e34c54e29c8deee1"
  },
  {
   "metadata": {
    "ExecuteTime": {
     "end_time": "2024-11-10T15:28:29.549408Z",
     "start_time": "2024-11-10T15:28:29.223559Z"
    }
   },
   "cell_type": "code",
   "source": [
    "usr = tx_df.query(\"User == 4\")\n",
    "usr.groupby(\"MCC\")[\"Amount\"].sum()"
   ],
   "id": "167301e0aedfced2",
   "outputs": [
    {
     "data": {
      "text/plain": [
       "MCC\n",
       "dining            37322.94\n",
       "entertainment     84800.67\n",
       "gas               69764.42\n",
       "grocery          258093.62\n",
       "hotel             31265.86\n",
       "onlineDining       4805.03\n",
       "other            575850.90\n",
       "rentalCar          5501.23\n",
       "retail           620776.18\n",
       "transit           33759.41\n",
       "travel            76850.65\n",
       "Name: Amount, dtype: float64"
      ]
     },
     "execution_count": 12,
     "metadata": {},
     "output_type": "execute_result"
    }
   ],
   "execution_count": 12
  },
  {
   "metadata": {
    "ExecuteTime": {
     "end_time": "2024-11-10T15:28:34.253027Z",
     "start_time": "2024-11-10T15:28:34.179608Z"
    }
   },
   "cell_type": "code",
   "source": "usr.to_csv(\"dummy-data/tx-data-1.csv\")",
   "id": "e349d21d78a6553e",
   "outputs": [],
   "execution_count": 13
  },
  {
   "metadata": {},
   "cell_type": "markdown",
   "source": "### Let's look at a user with...",
   "id": "93524418ad83430d"
  },
  {
   "metadata": {
    "ExecuteTime": {
     "end_time": "2024-11-10T15:47:08.076780Z",
     "start_time": "2024-11-10T15:47:07.966114Z"
    }
   },
   "cell_type": "code",
   "source": [
    "usr = tx_df.query(\"User == 16\")\n",
    "usr.groupby(\"MCC\")[\"Amount\"].sum()"
   ],
   "id": "5cddc11144c468d8",
   "outputs": [
    {
     "data": {
      "text/plain": [
       "MCC\n",
       "dining            19725.45\n",
       "entertainment     28567.58\n",
       "gas               84956.95\n",
       "grocery           38744.70\n",
       "hotel              4005.14\n",
       "onlineDining        380.14\n",
       "other            140709.00\n",
       "rentalCar           259.58\n",
       "retail            46851.51\n",
       "transit          311444.63\n",
       "travel            21656.80\n",
       "Name: Amount, dtype: float64"
      ]
     },
     "execution_count": 29,
     "metadata": {},
     "output_type": "execute_result"
    }
   ],
   "execution_count": 29
  },
  {
   "metadata": {
    "ExecuteTime": {
     "end_time": "2024-11-10T15:47:10.899099Z",
     "start_time": "2024-11-10T15:47:10.775166Z"
    }
   },
   "cell_type": "code",
   "source": "usr.to_csv(\"dummy-data/tx-data-2.csv\")",
   "id": "766e2ed623b88e07",
   "outputs": [],
   "execution_count": 30
  },
  {
   "metadata": {
    "ExecuteTime": {
     "end_time": "2024-11-10T16:09:01.375434Z",
     "start_time": "2024-11-10T16:09:01.253646Z"
    }
   },
   "cell_type": "code",
   "source": [
    "usr = tx_df.query(\"User == 34\")\n",
    "usr.groupby(\"MCC\")[\"Amount\"].sum()"
   ],
   "id": "2272b0bf0ab2dc33",
   "outputs": [
    {
     "data": {
      "text/plain": [
       "MCC\n",
       "dining           286686.16\n",
       "entertainment      7203.17\n",
       "gas               67045.70\n",
       "grocery           81486.89\n",
       "hotel             17178.68\n",
       "onlineDining        437.60\n",
       "other            307875.46\n",
       "rentalCar           547.40\n",
       "retail           142434.18\n",
       "streaming         17416.91\n",
       "transit           23623.25\n",
       "travel            17089.43\n",
       "Name: Amount, dtype: float64"
      ]
     },
     "execution_count": 48,
     "metadata": {},
     "output_type": "execute_result"
    }
   ],
   "execution_count": 48
  },
  {
   "metadata": {
    "ExecuteTime": {
     "end_time": "2024-11-10T16:09:17.604335Z",
     "start_time": "2024-11-10T16:09:17.473305Z"
    }
   },
   "cell_type": "code",
   "source": "usr.to_csv(\"dummy-data/tx-data-3.csv\")",
   "id": "39cd1722b135ffdc",
   "outputs": [],
   "execution_count": 49
  },
  {
   "metadata": {},
   "cell_type": "code",
   "outputs": [],
   "execution_count": null,
   "source": "",
   "id": "9083abcd178bbe72"
  }
 ],
 "metadata": {
  "kernelspec": {
   "display_name": "Python 3",
   "language": "python",
   "name": "python3"
  },
  "language_info": {
   "codemirror_mode": {
    "name": "ipython",
    "version": 2
   },
   "file_extension": ".py",
   "mimetype": "text/x-python",
   "name": "python",
   "nbconvert_exporter": "python",
   "pygments_lexer": "ipython2",
   "version": "2.7.6"
  }
 },
 "nbformat": 4,
 "nbformat_minor": 5
}
